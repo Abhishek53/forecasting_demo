{
 "cells": [
  {
   "cell_type": "markdown",
   "id": "b83e0e17-d30b-492c-9b2a-f80ac7b2bc51",
   "metadata": {},
   "source": [
    "## Forecasts for Product Demand\n",
    "##### Make Accurate Forecasts for Thousands of Different Products\n",
    "\n",
    "## 1. Data Description \n",
    "The dataset contains historical product demand for a manufacturing company with footprints globally. The company provides thousands of products within dozens of product categories. There are four central warehouses to ship products within the region it is responsible for. Since the products are manufactured in different locations all over the world, it normally takes more than one month to ship products via ocean to different central warehouses. If forecasts for each product in different central with reasonable accuracy for the monthly demand for month after next can be achieved, it would be beneficial to the company in multiple ways.\n",
    "\n",
    "## 2. Objective: \n",
    "Is it possible to make forecasts for thousands of products (some of them are highly variable in terms of monthly demand) for the the month after next?"
   ]
  },
  {
   "cell_type": "code",
   "execution_count": 1,
   "id": "8d9380ae-5f71-48c8-9b28-f57c2d18125f",
   "metadata": {},
   "outputs": [],
   "source": [
    "import pandas as pd\n",
    "import numpy as np\n",
    "import sys\n",
    "import matplotlib"
   ]
  },
  {
   "cell_type": "code",
   "execution_count": 2,
   "id": "934cadcd-99b2-46d3-a6e0-e462e346086d",
   "metadata": {},
   "outputs": [
    {
     "name": "stdout",
     "output_type": "stream",
     "text": [
      "Dataset has 1048575 rows and 5 columns\n"
     ]
    },
    {
     "data": {
      "text/html": [
       "<div>\n",
       "<style scoped>\n",
       "    .dataframe tbody tr th:only-of-type {\n",
       "        vertical-align: middle;\n",
       "    }\n",
       "\n",
       "    .dataframe tbody tr th {\n",
       "        vertical-align: top;\n",
       "    }\n",
       "\n",
       "    .dataframe thead th {\n",
       "        text-align: right;\n",
       "    }\n",
       "</style>\n",
       "<table border=\"1\" class=\"dataframe\">\n",
       "  <thead>\n",
       "    <tr style=\"text-align: right;\">\n",
       "      <th></th>\n",
       "      <th>Product_Code</th>\n",
       "      <th>Warehouse</th>\n",
       "      <th>Product_Category</th>\n",
       "      <th>Date</th>\n",
       "      <th>Order_Demand</th>\n",
       "    </tr>\n",
       "  </thead>\n",
       "  <tbody>\n",
       "    <tr>\n",
       "      <th>0</th>\n",
       "      <td>Product_0993</td>\n",
       "      <td>Whse_J</td>\n",
       "      <td>Category_028</td>\n",
       "      <td>2012/7/27</td>\n",
       "      <td>100</td>\n",
       "    </tr>\n",
       "    <tr>\n",
       "      <th>1</th>\n",
       "      <td>Product_0979</td>\n",
       "      <td>Whse_J</td>\n",
       "      <td>Category_028</td>\n",
       "      <td>2012/1/19</td>\n",
       "      <td>500</td>\n",
       "    </tr>\n",
       "    <tr>\n",
       "      <th>2</th>\n",
       "      <td>Product_0979</td>\n",
       "      <td>Whse_J</td>\n",
       "      <td>Category_028</td>\n",
       "      <td>2012/2/3</td>\n",
       "      <td>500</td>\n",
       "    </tr>\n",
       "    <tr>\n",
       "      <th>3</th>\n",
       "      <td>Product_0979</td>\n",
       "      <td>Whse_J</td>\n",
       "      <td>Category_028</td>\n",
       "      <td>2012/2/9</td>\n",
       "      <td>500</td>\n",
       "    </tr>\n",
       "    <tr>\n",
       "      <th>4</th>\n",
       "      <td>Product_0979</td>\n",
       "      <td>Whse_J</td>\n",
       "      <td>Category_028</td>\n",
       "      <td>2012/3/2</td>\n",
       "      <td>500</td>\n",
       "    </tr>\n",
       "  </tbody>\n",
       "</table>\n",
       "</div>"
      ],
      "text/plain": [
       "   Product_Code Warehouse Product_Category       Date Order_Demand\n",
       "0  Product_0993    Whse_J     Category_028  2012/7/27         100 \n",
       "1  Product_0979    Whse_J     Category_028  2012/1/19         500 \n",
       "2  Product_0979    Whse_J     Category_028   2012/2/3         500 \n",
       "3  Product_0979    Whse_J     Category_028   2012/2/9         500 \n",
       "4  Product_0979    Whse_J     Category_028   2012/3/2         500 "
      ]
     },
     "execution_count": 2,
     "metadata": {},
     "output_type": "execute_result"
    }
   ],
   "source": [
    "#Basic Data Analysis\n",
    "df = pd.read_csv(\"../datasets/Historical Product Demand.csv\")\n",
    "print(f\"Dataset has {df.shape[0]} rows and {df.shape[1]} columns\")\n",
    "df.head()"
   ]
  },
  {
   "cell_type": "code",
   "execution_count": 3,
   "id": "efb6854a-0718-4e27-8e0a-9bb66e974c1f",
   "metadata": {},
   "outputs": [
    {
     "name": "stdout",
     "output_type": "stream",
     "text": [
      "<class 'pandas.core.frame.DataFrame'>\n",
      "RangeIndex: 1048575 entries, 0 to 1048574\n",
      "Data columns (total 5 columns):\n",
      " #   Column            Non-Null Count    Dtype \n",
      "---  ------            --------------    ----- \n",
      " 0   Product_Code      1048575 non-null  object\n",
      " 1   Warehouse         1048575 non-null  object\n",
      " 2   Product_Category  1048575 non-null  object\n",
      " 3   Date              1037336 non-null  object\n",
      " 4   Order_Demand      1048575 non-null  object\n",
      "dtypes: object(5)\n",
      "memory usage: 40.0+ MB\n"
     ]
    }
   ],
   "source": [
    "#all values are of type string or object need data type conversion\n",
    "df.info()"
   ]
  },
  {
   "cell_type": "code",
   "execution_count": 4,
   "id": "48764c72-51c8-4435-a790-abdaac12bf9a",
   "metadata": {},
   "outputs": [
    {
     "data": {
      "text/html": [
       "<div>\n",
       "<style scoped>\n",
       "    .dataframe tbody tr th:only-of-type {\n",
       "        vertical-align: middle;\n",
       "    }\n",
       "\n",
       "    .dataframe tbody tr th {\n",
       "        vertical-align: top;\n",
       "    }\n",
       "\n",
       "    .dataframe thead th {\n",
       "        text-align: right;\n",
       "    }\n",
       "</style>\n",
       "<table border=\"1\" class=\"dataframe\">\n",
       "  <thead>\n",
       "    <tr style=\"text-align: right;\">\n",
       "      <th></th>\n",
       "      <th>count</th>\n",
       "      <th>unique</th>\n",
       "      <th>top</th>\n",
       "      <th>freq</th>\n",
       "    </tr>\n",
       "  </thead>\n",
       "  <tbody>\n",
       "    <tr>\n",
       "      <th>Product_Code</th>\n",
       "      <td>1048575</td>\n",
       "      <td>2160</td>\n",
       "      <td>Product_1359</td>\n",
       "      <td>16936</td>\n",
       "    </tr>\n",
       "    <tr>\n",
       "      <th>Warehouse</th>\n",
       "      <td>1048575</td>\n",
       "      <td>4</td>\n",
       "      <td>Whse_J</td>\n",
       "      <td>764447</td>\n",
       "    </tr>\n",
       "    <tr>\n",
       "      <th>Product_Category</th>\n",
       "      <td>1048575</td>\n",
       "      <td>33</td>\n",
       "      <td>Category_019</td>\n",
       "      <td>481099</td>\n",
       "    </tr>\n",
       "    <tr>\n",
       "      <th>Date</th>\n",
       "      <td>1037336</td>\n",
       "      <td>1729</td>\n",
       "      <td>2013/9/27</td>\n",
       "      <td>2075</td>\n",
       "    </tr>\n",
       "    <tr>\n",
       "      <th>Order_Demand</th>\n",
       "      <td>1048575</td>\n",
       "      <td>3828</td>\n",
       "      <td>1000</td>\n",
       "      <td>112682</td>\n",
       "    </tr>\n",
       "  </tbody>\n",
       "</table>\n",
       "</div>"
      ],
      "text/plain": [
       "                    count unique           top    freq\n",
       "Product_Code      1048575   2160  Product_1359   16936\n",
       "Warehouse         1048575      4        Whse_J  764447\n",
       "Product_Category  1048575     33  Category_019  481099\n",
       "Date              1037336   1729     2013/9/27    2075\n",
       "Order_Demand      1048575   3828         1000   112682"
      ]
     },
     "execution_count": 4,
     "metadata": {},
     "output_type": "execute_result"
    }
   ],
   "source": [
    "#check rnage of values and distribution of each columns\n",
    "df.describe().T"
   ]
  },
  {
   "cell_type": "code",
   "execution_count": 5,
   "id": "0ebe840b-8898-4f45-aea7-7422b0a4df60",
   "metadata": {},
   "outputs": [
    {
     "data": {
      "text/plain": [
       "Product_Code            0\n",
       "Warehouse               0\n",
       "Product_Category        0\n",
       "Date                11239\n",
       "Order_Demand            0\n",
       "dtype: int64"
      ]
     },
     "execution_count": 5,
     "metadata": {},
     "output_type": "execute_result"
    }
   ],
   "source": [
    "#There exisists some missing dates may require imputation\n",
    "df.isnull().sum()"
   ]
  },
  {
   "cell_type": "markdown",
   "id": "0bf7cc96-4385-43dc-a92a-0604ab7316b1",
   "metadata": {},
   "source": [
    "###### Product code can be used as an sku. Product category is a correlated column and Warehouse also doesn't act as a good feartue creates more biasness towards warehousr J. So These two columns can be dropped"
   ]
  },
  {
   "cell_type": "code",
   "execution_count": 6,
   "id": "61710c95-6d1a-4d11-b8be-76f8fa1a0bec",
   "metadata": {},
   "outputs": [
    {
     "data": {
      "text/plain": [
       "Warehouse  Product_Category\n",
       "Whse_J     Category_019        369078\n",
       "           Category_001         93013\n",
       "           Category_005         91215\n",
       "Whse_A     Category_019         73390\n",
       "Whse_J     Category_007         55192\n",
       "                                ...  \n",
       "Whse_S     Category_014            26\n",
       "           Category_017            19\n",
       "           Category_016            19\n",
       "Whse_C     Category_008            19\n",
       "Whse_A     Category_016            18\n",
       "Length: 94, dtype: int64"
      ]
     },
     "execution_count": 6,
     "metadata": {},
     "output_type": "execute_result"
    }
   ],
   "source": [
    "#check different number warehouse and product categories\n",
    "columns = [\"Warehouse\", \"Product_Category\"]\n",
    "df[columns].value_counts()"
   ]
  },
  {
   "cell_type": "code",
   "execution_count": 7,
   "id": "74d82ed4-12e9-4697-adaa-9b53201612d2",
   "metadata": {},
   "outputs": [
    {
     "name": "stderr",
     "output_type": "stream",
     "text": [
      "d:\\pluto7-work\\demos or tasks\\demandsensing\\ds_env\\lib\\site-packages\\ipykernel_launcher.py:6: FutureWarning: The default value of regex will change from True to False in a future version. In addition, single character regular expressions will*not* be treated as literal strings when regex=True.\n",
      "  \n",
      "d:\\pluto7-work\\demos or tasks\\demandsensing\\ds_env\\lib\\site-packages\\ipykernel_launcher.py:7: FutureWarning: The default value of regex will change from True to False in a future version. In addition, single character regular expressions will*not* be treated as literal strings when regex=True.\n",
      "  import sys\n"
     ]
    }
   ],
   "source": [
    "#Format data types of colums\n",
    "data = df.copy()\n",
    "\n",
    "df[\"Date\"] = pd.to_datetime(data[\"Date\"])\n",
    "\n",
    "data['Order_Demand'] = data['Order_Demand'].str.replace('(','-')\n",
    "data['Order_Demand'] = data['Order_Demand'].str.replace(')','')\n",
    "df[\"Order_Demand\"] = pd.to_numeric(data[\"Order_Demand\"])"
   ]
  },
  {
   "cell_type": "code",
   "execution_count": 8,
   "id": "971f4746-a6a5-4a62-8141-28fdd69ac70d",
   "metadata": {},
   "outputs": [
    {
     "data": {
      "text/plain": [
       "Product_Code                object\n",
       "Warehouse                   object\n",
       "Product_Category            object\n",
       "Date                datetime64[ns]\n",
       "Order_Demand                 int64\n",
       "dtype: object"
      ]
     },
     "execution_count": 8,
     "metadata": {},
     "output_type": "execute_result"
    }
   ],
   "source": [
    "df.dtypes"
   ]
  },
  {
   "cell_type": "code",
   "execution_count": 28,
   "id": "c2187d05-ea3c-4c98-a4f6-992ff77d3ace",
   "metadata": {},
   "outputs": [
    {
     "name": "stdout",
     "output_type": "stream",
     "text": [
      "Total Number of Products = 2160\n",
      "Total Number of Categories = 33\n",
      "Product_Code  Product_Category\n",
      "Product_1359  Category_019        16936\n",
      "Product_1295  Category_019        10575\n",
      "Product_1378  Category_019         9770\n",
      "Product_0620  Category_001         9428\n",
      "Product_1286  Category_019         8888\n",
      "                                  ...  \n",
      "Product_1698  Category_021            2\n",
      "Product_1703  Category_021            1\n",
      "Product_0465  Category_012            1\n",
      "Product_2099  Category_009            1\n",
      "Product_0853  Category_021            1\n",
      "Length: 2160, dtype: int64\n"
     ]
    }
   ],
   "source": [
    "#check if each product has only one category\n",
    "print(f\"Total Number of Products = {df['Product_Code'].nunique()}\")\n",
    "print(f\"Total Number of Categories = {df['Product_Category'].nunique()}\")\n",
    "\n",
    "#iter\n",
    "for product in df[\"Product_Code\"].unique():\n",
    "    temp = df[df[\"Product_Code\"] == product]\n",
    "    if len(temp[\"Product_Category\"].unique()) > 1:\n",
    "        print(f\"Product {product} has multiple categories\")\n",
    "        \n",
    "# as there is no multiple categories for product from above logic check value counts rows = number of products to cross verify\n",
    "columns = [\"Product_Code\", \"Product_Category\"]\n",
    "print(df[columns].value_counts())"
   ]
  },
  {
   "cell_type": "code",
   "execution_count": 78,
   "id": "e2d32409-b5e7-490f-875d-2a4261deba5b",
   "metadata": {},
   "outputs": [],
   "source": [
    "#Drop Unwanted Columns and sort data by date\n",
    "df = df.drop(columns=['Warehouse','Product_Category'])\n",
    "\n",
    "# Sort data by date\n",
    "df = df.sort_values('Date').reset_index().drop('index',axis=1)"
   ]
  },
  {
   "cell_type": "code",
   "execution_count": 79,
   "id": "4bd814c4-2342-431a-a568-15f2149a1884",
   "metadata": {},
   "outputs": [
    {
     "name": "stdout",
     "output_type": "stream",
     "text": [
      "The number of products is 2160\n",
      "Dates min and Max ranges from 2011-01-08 00:00:00 to 2017-01-09 00:00:00\n"
     ]
    }
   ],
   "source": [
    "print(f\"The number of products is {len(df['Product_Code'].value_counts().index)}\")\n",
    "print(f\"Dates min and Max ranges from {df['Date'].min()} to {df['Date'].max()}\")\n"
   ]
  },
  {
   "cell_type": "code",
   "execution_count": 80,
   "id": "d38b0e2e-530a-478c-bae9-a913cf9cfa24",
   "metadata": {},
   "outputs": [
    {
     "name": "stdout",
     "output_type": "stream",
     "text": [
      "Percentage ranges from 0.0011126440874093195 to 82.183908045977\n"
     ]
    }
   ],
   "source": [
    "# Extract negative values and aggregate by product\n",
    "negative_orders_df = df.loc[df['Order_Demand'] < 0]\n",
    "negative_pivot_table = pd.pivot_table(negative_orders_df, values='Order_Demand',index=['Product_Code'], aggfunc=np.sum).rename(columns={'Order_Demand':'Total_Neg'})\n",
    "\n",
    "# Extract positve values and aggregate by product\n",
    "positive_orders_df = df.loc[df['Order_Demand'] > 0]\n",
    "positive_pivot_table = pd.pivot_table(positive_orders_df, values='Order_Demand',index=['Product_Code'], aggfunc=np.sum)\n",
    "\n",
    "# Add a column with corresponding total positive value by product and calculate percentage, sort = desc\n",
    "negative_pivot_table['Total_Pos'] = positive_pivot_table.loc[positive_pivot_table.index.isin(negative_pivot_table.index),]\n",
    "negative_pivot_table['Percentage'] = abs(negative_pivot_table['Total_Neg'])*100/negative_pivot_table['Total_Pos']\n",
    "negative_pivot_table = negative_pivot_table.sort_values('Percentage', ascending = False)\n",
    "\n",
    "print(\"Percentage ranges from\",negative_pivot_table['Percentage'].min(),\"to\",negative_pivot_table['Percentage'].max())"
   ]
  },
  {
   "cell_type": "code",
   "execution_count": 82,
   "id": "beb929e1-a541-48c8-9176-b42e9dd4c46b",
   "metadata": {},
   "outputs": [],
   "source": [
    "for product in df[\"Product_Code\"].unique():\n",
    "    pass\n",
    "    #print(f\"Order Demand of {product}\")\n",
    "    #print(df.loc[df[\"Product_Code\"] == product].head(3))"
   ]
  },
  {
   "cell_type": "code",
   "execution_count": 87,
   "id": "262b2be4-4145-4181-adb0-07827d3f98b7",
   "metadata": {},
   "outputs": [
    {
     "name": "stdout",
     "output_type": "stream",
     "text": [
      "The number of products with null is 0\n"
     ]
    }
   ],
   "source": [
    "df_null = df.loc[df['Date'].isnull() == True]\n",
    "df = df.dropna(how='any',axis=0)\n",
    "print(\"The number of products with null is\",len(df_null['Product_Code'].value_counts().index))\n",
    "\n",
    "[sum(df[i].isnull()) for i in df.columns]\n",
    "\n",
    "# Covert float valued demand to absolute value\n",
    "df['absolute_demand'] = abs(df['Order_Demand'])\n",
    "\n",
    "# Remove all rows that have the same products, dates, and absolute values of demand\n",
    "df_nodup = df.drop_duplicates(subset = ['Product_Code','Date','absolute_demand'], keep = False)"
   ]
  },
  {
   "cell_type": "code",
   "execution_count": 88,
   "id": "47eb5f80-70d8-4d55-83e6-eaafd1bbeca2",
   "metadata": {},
   "outputs": [
    {
     "ename": "KeyError",
     "evalue": "'Order_Demand'",
     "output_type": "error",
     "traceback": [
      "\u001b[1;31m---------------------------------------------------------------------------\u001b[0m",
      "\u001b[1;31mKeyError\u001b[0m                                  Traceback (most recent call last)",
      "\u001b[1;32md:\\pluto7-work\\demos or tasks\\demandsensing\\ds_env\\lib\\site-packages\\pandas\\core\\indexes\\base.py\u001b[0m in \u001b[0;36mget_loc\u001b[1;34m(self, key, method, tolerance)\u001b[0m\n\u001b[0;32m   3079\u001b[0m             \u001b[1;32mtry\u001b[0m\u001b[1;33m:\u001b[0m\u001b[1;33m\u001b[0m\u001b[1;33m\u001b[0m\u001b[0m\n\u001b[1;32m-> 3080\u001b[1;33m                 \u001b[1;32mreturn\u001b[0m \u001b[0mself\u001b[0m\u001b[1;33m.\u001b[0m\u001b[0m_engine\u001b[0m\u001b[1;33m.\u001b[0m\u001b[0mget_loc\u001b[0m\u001b[1;33m(\u001b[0m\u001b[0mcasted_key\u001b[0m\u001b[1;33m)\u001b[0m\u001b[1;33m\u001b[0m\u001b[1;33m\u001b[0m\u001b[0m\n\u001b[0m\u001b[0;32m   3081\u001b[0m             \u001b[1;32mexcept\u001b[0m \u001b[0mKeyError\u001b[0m \u001b[1;32mas\u001b[0m \u001b[0merr\u001b[0m\u001b[1;33m:\u001b[0m\u001b[1;33m\u001b[0m\u001b[1;33m\u001b[0m\u001b[0m\n",
      "\u001b[1;32mpandas\\_libs\\index.pyx\u001b[0m in \u001b[0;36mpandas._libs.index.IndexEngine.get_loc\u001b[1;34m()\u001b[0m\n",
      "\u001b[1;32mpandas\\_libs\\index.pyx\u001b[0m in \u001b[0;36mpandas._libs.index.IndexEngine.get_loc\u001b[1;34m()\u001b[0m\n",
      "\u001b[1;32mpandas\\_libs\\hashtable_class_helper.pxi\u001b[0m in \u001b[0;36mpandas._libs.hashtable.PyObjectHashTable.get_item\u001b[1;34m()\u001b[0m\n",
      "\u001b[1;32mpandas\\_libs\\hashtable_class_helper.pxi\u001b[0m in \u001b[0;36mpandas._libs.hashtable.PyObjectHashTable.get_item\u001b[1;34m()\u001b[0m\n",
      "\u001b[1;31mKeyError\u001b[0m: 'Order_Demand'",
      "\nThe above exception was the direct cause of the following exception:\n",
      "\u001b[1;31mKeyError\u001b[0m                                  Traceback (most recent call last)",
      "\u001b[1;32m<ipython-input-88-e8439f284cb9>\u001b[0m in \u001b[0;36m<module>\u001b[1;34m\u001b[0m\n\u001b[0;32m      2\u001b[0m duplicates = pd.pivot_table(duplicates, values='Order_Demand',index=['Product_Code','Date'],aggfunc=np.sum\n\u001b[0;32m      3\u001b[0m                            ).reset_index()\n\u001b[1;32m----> 4\u001b[1;33m \u001b[0mduplicates\u001b[0m \u001b[1;33m=\u001b[0m \u001b[0mduplicates\u001b[0m\u001b[1;33m.\u001b[0m\u001b[0mloc\u001b[0m\u001b[1;33m[\u001b[0m\u001b[0mduplicates\u001b[0m\u001b[1;33m[\u001b[0m\u001b[1;34m'Order_Demand'\u001b[0m\u001b[1;33m]\u001b[0m\u001b[1;33m>\u001b[0m\u001b[1;36m0\u001b[0m\u001b[1;33m]\u001b[0m\u001b[1;33m\u001b[0m\u001b[1;33m\u001b[0m\u001b[0m\n\u001b[0m",
      "\u001b[1;32md:\\pluto7-work\\demos or tasks\\demandsensing\\ds_env\\lib\\site-packages\\pandas\\core\\frame.py\u001b[0m in \u001b[0;36m__getitem__\u001b[1;34m(self, key)\u001b[0m\n\u001b[0;32m   3022\u001b[0m             \u001b[1;32mif\u001b[0m \u001b[0mself\u001b[0m\u001b[1;33m.\u001b[0m\u001b[0mcolumns\u001b[0m\u001b[1;33m.\u001b[0m\u001b[0mnlevels\u001b[0m \u001b[1;33m>\u001b[0m \u001b[1;36m1\u001b[0m\u001b[1;33m:\u001b[0m\u001b[1;33m\u001b[0m\u001b[1;33m\u001b[0m\u001b[0m\n\u001b[0;32m   3023\u001b[0m                 \u001b[1;32mreturn\u001b[0m \u001b[0mself\u001b[0m\u001b[1;33m.\u001b[0m\u001b[0m_getitem_multilevel\u001b[0m\u001b[1;33m(\u001b[0m\u001b[0mkey\u001b[0m\u001b[1;33m)\u001b[0m\u001b[1;33m\u001b[0m\u001b[1;33m\u001b[0m\u001b[0m\n\u001b[1;32m-> 3024\u001b[1;33m             \u001b[0mindexer\u001b[0m \u001b[1;33m=\u001b[0m \u001b[0mself\u001b[0m\u001b[1;33m.\u001b[0m\u001b[0mcolumns\u001b[0m\u001b[1;33m.\u001b[0m\u001b[0mget_loc\u001b[0m\u001b[1;33m(\u001b[0m\u001b[0mkey\u001b[0m\u001b[1;33m)\u001b[0m\u001b[1;33m\u001b[0m\u001b[1;33m\u001b[0m\u001b[0m\n\u001b[0m\u001b[0;32m   3025\u001b[0m             \u001b[1;32mif\u001b[0m \u001b[0mis_integer\u001b[0m\u001b[1;33m(\u001b[0m\u001b[0mindexer\u001b[0m\u001b[1;33m)\u001b[0m\u001b[1;33m:\u001b[0m\u001b[1;33m\u001b[0m\u001b[1;33m\u001b[0m\u001b[0m\n\u001b[0;32m   3026\u001b[0m                 \u001b[0mindexer\u001b[0m \u001b[1;33m=\u001b[0m \u001b[1;33m[\u001b[0m\u001b[0mindexer\u001b[0m\u001b[1;33m]\u001b[0m\u001b[1;33m\u001b[0m\u001b[1;33m\u001b[0m\u001b[0m\n",
      "\u001b[1;32md:\\pluto7-work\\demos or tasks\\demandsensing\\ds_env\\lib\\site-packages\\pandas\\core\\indexes\\base.py\u001b[0m in \u001b[0;36mget_loc\u001b[1;34m(self, key, method, tolerance)\u001b[0m\n\u001b[0;32m   3080\u001b[0m                 \u001b[1;32mreturn\u001b[0m \u001b[0mself\u001b[0m\u001b[1;33m.\u001b[0m\u001b[0m_engine\u001b[0m\u001b[1;33m.\u001b[0m\u001b[0mget_loc\u001b[0m\u001b[1;33m(\u001b[0m\u001b[0mcasted_key\u001b[0m\u001b[1;33m)\u001b[0m\u001b[1;33m\u001b[0m\u001b[1;33m\u001b[0m\u001b[0m\n\u001b[0;32m   3081\u001b[0m             \u001b[1;32mexcept\u001b[0m \u001b[0mKeyError\u001b[0m \u001b[1;32mas\u001b[0m \u001b[0merr\u001b[0m\u001b[1;33m:\u001b[0m\u001b[1;33m\u001b[0m\u001b[1;33m\u001b[0m\u001b[0m\n\u001b[1;32m-> 3082\u001b[1;33m                 \u001b[1;32mraise\u001b[0m \u001b[0mKeyError\u001b[0m\u001b[1;33m(\u001b[0m\u001b[0mkey\u001b[0m\u001b[1;33m)\u001b[0m \u001b[1;32mfrom\u001b[0m \u001b[0merr\u001b[0m\u001b[1;33m\u001b[0m\u001b[1;33m\u001b[0m\u001b[0m\n\u001b[0m\u001b[0;32m   3083\u001b[0m \u001b[1;33m\u001b[0m\u001b[0m\n\u001b[0;32m   3084\u001b[0m         \u001b[1;32mif\u001b[0m \u001b[0mtolerance\u001b[0m \u001b[1;32mis\u001b[0m \u001b[1;32mnot\u001b[0m \u001b[1;32mNone\u001b[0m\u001b[1;33m:\u001b[0m\u001b[1;33m\u001b[0m\u001b[1;33m\u001b[0m\u001b[0m\n",
      "\u001b[1;31mKeyError\u001b[0m: 'Order_Demand'"
     ]
    }
   ],
   "source": [
    "duplicates = df.iloc[~df.index.isin(df_nodup.index)]\n",
    "duplicates = pd.pivot_table(duplicates, values='Order_Demand',index=['Product_Code','Date'],aggfunc=np.sum\n",
    "                           ).reset_index()\n",
    "duplicates = duplicates.loc[duplicates['Order_Demand']>0]"
   ]
  },
  {
   "cell_type": "code",
   "execution_count": 85,
   "id": "8c4ab93a-e550-4b15-a8c4-ea23a13862e0",
   "metadata": {},
   "outputs": [
    {
     "ename": "NameError",
     "evalue": "name 'duplicates' is not defined",
     "output_type": "error",
     "traceback": [
      "\u001b[1;31m---------------------------------------------------------------------------\u001b[0m",
      "\u001b[1;31mNameError\u001b[0m                                 Traceback (most recent call last)",
      "\u001b[1;32m<ipython-input-85-a11cb3aba010>\u001b[0m in \u001b[0;36m<module>\u001b[1;34m\u001b[0m\n\u001b[0;32m      4\u001b[0m \u001b[1;33m\u001b[0m\u001b[0m\n\u001b[0;32m      5\u001b[0m \u001b[1;31m# Add duplicates table back to data\u001b[0m\u001b[1;33m\u001b[0m\u001b[1;33m\u001b[0m\u001b[1;33m\u001b[0m\u001b[0m\n\u001b[1;32m----> 6\u001b[1;33m \u001b[0mdf\u001b[0m \u001b[1;33m=\u001b[0m \u001b[0mpd\u001b[0m\u001b[1;33m.\u001b[0m\u001b[0mconcat\u001b[0m\u001b[1;33m(\u001b[0m\u001b[1;33m[\u001b[0m\u001b[0mdf\u001b[0m\u001b[1;33m,\u001b[0m\u001b[0mduplicates\u001b[0m\u001b[1;33m]\u001b[0m\u001b[1;33m,\u001b[0m \u001b[0mignore_index\u001b[0m \u001b[1;33m=\u001b[0m \u001b[1;32mTrue\u001b[0m\u001b[1;33m)\u001b[0m\u001b[1;33m\u001b[0m\u001b[1;33m\u001b[0m\u001b[0m\n\u001b[0m\u001b[0;32m      7\u001b[0m \u001b[1;33m\u001b[0m\u001b[0m\n\u001b[0;32m      8\u001b[0m \u001b[1;31m# Check to see if any negative values remain\u001b[0m\u001b[1;33m\u001b[0m\u001b[1;33m\u001b[0m\u001b[1;33m\u001b[0m\u001b[0m\n",
      "\u001b[1;31mNameError\u001b[0m: name 'duplicates' is not defined"
     ]
    }
   ],
   "source": [
    "df = df.drop_duplicates(subset = ['Product_Code','Date','absolute_demand'], keep = False)\n",
    "df = df.drop('absolute_demand',axis=1)\n",
    "df = df.loc[df['Order_Demand']>0]\n",
    "\n",
    "# Add duplicates table back to data\n",
    "df = pd.concat([df,duplicates], ignore_index = True)\n",
    "\n",
    "# Check to see if any negative values remain\n",
    "df.loc[df['Order_Demand'] <0] # no rows"
   ]
  },
  {
   "cell_type": "code",
   "execution_count": null,
   "id": "8905d8e7-1ac8-4427-9b70-095557c920c0",
   "metadata": {},
   "outputs": [],
   "source": []
  },
  {
   "cell_type": "code",
   "execution_count": null,
   "id": "878ae04c-0806-4cae-bcca-8c78787b0540",
   "metadata": {},
   "outputs": [],
   "source": []
  },
  {
   "cell_type": "code",
   "execution_count": null,
   "id": "cd6b15ed-3010-4516-ac26-443243713554",
   "metadata": {},
   "outputs": [],
   "source": []
  },
  {
   "cell_type": "code",
   "execution_count": null,
   "id": "23e760af-c6dd-4723-b3cc-65902200047d",
   "metadata": {},
   "outputs": [],
   "source": []
  },
  {
   "cell_type": "code",
   "execution_count": null,
   "id": "c7ba9f81-103a-485b-b912-e2c651af8dd3",
   "metadata": {},
   "outputs": [],
   "source": []
  }
 ],
 "metadata": {
  "kernelspec": {
   "display_name": "Python 3",
   "language": "python",
   "name": "python3"
  },
  "language_info": {
   "codemirror_mode": {
    "name": "ipython",
    "version": 3
   },
   "file_extension": ".py",
   "mimetype": "text/x-python",
   "name": "python",
   "nbconvert_exporter": "python",
   "pygments_lexer": "ipython3",
   "version": "3.7.7"
  }
 },
 "nbformat": 4,
 "nbformat_minor": 5
}
